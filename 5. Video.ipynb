{
 "cells": [
  {
   "cell_type": "code",
   "execution_count": 13,
   "metadata": {},
   "outputs": [],
   "source": [
    "import cv2\n",
    "import numpy as np\n",
    "import openvino as ov"
   ]
  },
  {
   "cell_type": "markdown",
   "metadata": {},
   "source": [
    "# webcam"
   ]
  },
  {
   "cell_type": "code",
   "execution_count": 14,
   "metadata": {},
   "outputs": [],
   "source": [
    "def Main():\n",
    "    camera = cv2.VideoCapture(source)\n",
    "\n",
    "    while(True):\n",
    "\n",
    "        ret, frame = camera.read()\n",
    "\n",
    "        if not ret:\n",
    "            break\n",
    "\n",
    "        cv2.imshow(\"Webcam\", frame)\n",
    "\n",
    "        if cv2.waitKey(1) & 0xff == ord('q'): # 'q' 를 누르면 루프 종료\n",
    "            break\n",
    "\n",
    "    camera.release()\n",
    "    cv2.destroyAllWindows()"
   ]
  },
  {
   "cell_type": "code",
   "execution_count": 15,
   "metadata": {},
   "outputs": [],
   "source": [
    "source = \"data/man.mp4\"\n",
    "\n",
    "if __name__ == '__main__':\n",
    "    Main()"
   ]
  },
  {
   "cell_type": "markdown",
   "metadata": {},
   "source": [
    "# Face Detection with the Webcam"
   ]
  },
  {
   "cell_type": "markdown",
   "metadata": {},
   "source": [
    "### Load Model"
   ]
  },
  {
   "cell_type": "code",
   "execution_count": 16,
   "metadata": {},
   "outputs": [
    {
     "name": "stdout",
     "output_type": "stream",
     "text": [
      "Input shape: [1,3,384,672]\n",
      "output shape: [1,1,200,7]\n",
      "Input shape: [1,3,64,64]\n",
      "output shape: [1,5,1,1]\n",
      "Input shape: [1,3,62,62]\n",
      "output shape: <bound method PyCapsule.output of <CompiledModel:\n",
      "inputs[\n",
      "<ConstOutput: names[data] shape[1,3,62,62] type: f32>\n",
      "]\n",
      "outputs[\n",
      "<ConstOutput: names[prob] shape[1,2,1,1] type: f32>,\n",
      "<ConstOutput: names[age_conv3, fc3_a] shape[1,1,1,1] type: f32>\n",
      "]>>\n"
     ]
    }
   ],
   "source": [
    "core = ov.Core()\n",
    "\n",
    "model_face = core.read_model(model='models/face-detection-adas-0001.xml')\n",
    "compiled_model_face = core.compile_model(model = model_face, device_name = \"CPU\")\n",
    "\n",
    "input_layer_face = compiled_model_face.input(0)\n",
    "output_layer_face = compiled_model_face.output(0)\n",
    "\n",
    "print(\"Input shape:\", input_layer_face.shape)\n",
    "print(\"output shape:\", output_layer_face.shape)\n",
    "\n",
    "model_emo = core.read_model(model='models/emotions-recognition-retail-0003.xml')\n",
    "compiled_model_emo = core.compile_model(model = model_emo, device_name = \"CPU\")\n",
    "\n",
    "input_layer_emo = compiled_model_emo.input(0)\n",
    "output_layer_emo = compiled_model_emo.output(0)\n",
    "\n",
    "print(\"Input shape:\", input_layer_emo.shape)\n",
    "print(\"output shape:\", output_layer_emo.shape)\n",
    "\n",
    "model_ag = core.read_model(model='models/age-gender-recognition-retail-0013.xml')\n",
    "compiled_model_ag = core.compile_model(model = model_ag, device_name = \"CPU\")\n",
    "\n",
    "input_layer_ag = compiled_model_ag.input(0)\n",
    "output_layer_ag = compiled_model_ag.output\n",
    "\n",
    "print(\"Input shape:\", input_layer_ag.shape)\n",
    "print(\"output shape:\", output_layer_ag)"
   ]
  },
  {
   "cell_type": "markdown",
   "metadata": {},
   "source": [
    "### Pre-Process New Input Data"
   ]
  },
  {
   "cell_type": "code",
   "execution_count": 17,
   "metadata": {},
   "outputs": [],
   "source": [
    "def preprocess(image, input_layer):\n",
    "        N, input_channels, input_height, input_width = input_layer.shape\n",
    "\n",
    "        resized_image = cv2.resize(image, (input_width, input_height))\n",
    "        transposed_image = resized_image.transpose(2,0,1)\n",
    "        input_image = np.expand_dims(transposed_image,0)\n",
    "        \n",
    "        return input_image"
   ]
  },
  {
   "cell_type": "markdown",
   "metadata": {},
   "source": [
    "### Postprocess the results"
   ]
  },
  {
   "cell_type": "markdown",
   "metadata": {},
   "source": [
    "### Find the Face Boxes"
   ]
  },
  {
   "cell_type": "code",
   "execution_count": 18,
   "metadata": {},
   "outputs": [],
   "source": [
    "def find_faceboxes(image, results, confidence_threshold):\n",
    "    results = results.squeeze()\n",
    "\n",
    "    scores = results[:, 2]\n",
    "    boxes  = results[:, -4:]\n",
    "\n",
    "    face_boxes = boxes[scores >= confidence_threshold]\n",
    "    scores = scores[scores >= confidence_threshold]\n",
    "\n",
    "    image_h, image_w, image_channels = image.shape\n",
    "    face_boxes = face_boxes*np.array([image_w, image_h, image_w, image_h])\n",
    "    face_boxes = face_boxes.astype(np.int64)\n",
    "\n",
    "    return face_boxes, scores"
   ]
  },
  {
   "cell_type": "markdown",
   "metadata": {},
   "source": [
    "### Draw the Emotion/Age/Gender"
   ]
  },
  {
   "cell_type": "code",
   "execution_count": 38,
   "metadata": {},
   "outputs": [],
   "source": [
    "def draw_age_gender_emotion(face_boxes, frame):\n",
    "\n",
    "    fontScale = frame.shape[1]/1000\n",
    "    EMOTION_NAMES = ['netural', 'happy', 'sad', 'surprise', 'anger']\n",
    "    show_frame = frame.copy()\n",
    "\n",
    "    for i in range(len(face_boxes)):\n",
    "        xmin, ymin, xmax, ymax = face_boxes[i]\n",
    "        face = frame[ymin:ymax, xmin:xmax]\n",
    "\n",
    "        # --- emotion ---\n",
    "        input_frame = preprocess(face, input_layer_emo)\n",
    "        results = compiled_model_emo([input_frame])[output_layer_emo]\n",
    "\n",
    "        results_emo = results.squeeze()\n",
    "        index = np.argmax(results_emo)\n",
    "        # --- emotion ---\n",
    "\n",
    "        # --- age and gender ---\n",
    "        input_ag = preprocess(face, input_layer_ag)\n",
    "        results_ag = compiled_model_ag([input_ag])\n",
    "        \n",
    "        age, gender = results_ag[1], results_ag[0]\n",
    "\n",
    "        age=np.squeeze(age)\n",
    "        age = int(age*100)\n",
    "        \n",
    "        gender=np.squeeze(gender)\n",
    "        if (gender[0]>=0.65):\n",
    "            gender='female'\n",
    "            box_color = (0, 0, 200)\n",
    "            \n",
    "        elif (gender[1]>=0.55):\n",
    "            gender='male'\n",
    "            box_color = (200, 200, 0)\n",
    "            \n",
    "        else:\n",
    "            gender='unknown'\n",
    "            box_color = (200, 200, 200)\n",
    "\n",
    "        # --- age and gender ---\n",
    "\n",
    "        text = gender + ' ' + str(age) + ' ' + EMOTION_NAMES[index]\n",
    "        cv2.putText(show_frame, text, (xmin, ymin), cv2.FONT_HERSHEY_SIMPLEX, fontScale, box_color, 1)\n",
    "        cv2.rectangle(img=show_frame, pt1=(xmin, ymin), pt2=(xmax, ymax), color=(0, 200, 0), thickness=2)\n",
    "\n",
    "    return show_frame"
   ]
  },
  {
   "cell_type": "markdown",
   "metadata": {},
   "source": [
    "# Run Inference"
   ]
  },
  {
   "cell_type": "code",
   "execution_count": 39,
   "metadata": {},
   "outputs": [],
   "source": [
    "def Main():\n",
    "    camera = cv2.VideoCapture(source)\n",
    "\n",
    "    while(True):\n",
    "\n",
    "        ret, frame = camera.read()\n",
    "\n",
    "        if not ret:\n",
    "            break\n",
    "        input_frame = preprocess(frame, input_layer_face)\n",
    "        results = compiled_model_face([input_frame])[output_layer_face]\n",
    "\n",
    "        confidence_threshold = .95\n",
    "        face_boxes, scores = find_faceboxes(frame, results, confidence_threshold)\n",
    "        show_frame = draw_age_gender_emotion(face_boxes, frame)\n",
    "\n",
    "        cv2.imshow(\"Webcam\", show_frame)\n",
    "\n",
    "        if cv2.waitKey(1) & 0xff == ord('q'): # 'q' 를 누르면 루프 종료\n",
    "            break\n",
    "\n",
    "    camera.release()\n",
    "    cv2.destroyAllWindows()"
   ]
  },
  {
   "cell_type": "code",
   "execution_count": 45,
   "metadata": {},
   "outputs": [],
   "source": [
    "source = \"data/man.mp4\"\n",
    "if __name__ == '__main__':\n",
    "    Main()"
   ]
  }
 ],
 "metadata": {
  "kernelspec": {
   "display_name": "BrainAI",
   "language": "python",
   "name": "python3"
  },
  "language_info": {
   "codemirror_mode": {
    "name": "ipython",
    "version": 3
   },
   "file_extension": ".py",
   "mimetype": "text/x-python",
   "name": "python",
   "nbconvert_exporter": "python",
   "pygments_lexer": "ipython3",
   "version": "3.11.8"
  }
 },
 "nbformat": 4,
 "nbformat_minor": 2
}
