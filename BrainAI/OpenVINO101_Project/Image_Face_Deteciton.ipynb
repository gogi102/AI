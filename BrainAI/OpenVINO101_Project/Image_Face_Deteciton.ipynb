{
 "cells": [
  {
   "cell_type": "markdown",
   "metadata": {},
   "source": [
    "# Load Model"
   ]
  },
  {
   "cell_type": "code",
   "execution_count": null,
   "metadata": {},
   "outputs": [],
   "source": [
    "import openvino as ov\n",
    "\n",
    "core = ov.Core()\n",
    "\n",
    "model = core.read_model(model='models/face-detection-adas-0001.xml')\n",
    "compiled_model = core.compile_model(model = model, device_name = \"CPU\")\n",
    "\n",
    "input_layer = compiled_model.input(0)\n",
    "output_layer = compiled_model.output(0)\n",
    "\n",
    "print(\"Input shape:\", input_layer.shape)\n",
    "print(\"output shape:\", output_layer.shape)"
   ]
  },
  {
   "cell_type": "markdown",
   "metadata": {},
   "source": [
    "# Preprocess New Input Data"
   ]
  },
  {
   "cell_type": "markdown",
   "metadata": {},
   "source": [
    "### Call Image\n"
   ]
  },
  {
   "cell_type": "code",
   "execution_count": null,
   "metadata": {},
   "outputs": [],
   "source": [
    "import cv2\n",
    "import matplotlib.pyplot as plt\n",
    "\n",
    "image = cv2.imread(\"data/people2.jpg\")\n",
    "print(image.shape)\n",
    "plt.imshow(cv2.cvtColor(image, cv2.COLOR_BGR2RGB))\n",
    "\n",
    "image_height, image_width, image_channels = image.shape\n",
    "image = cv2.resize(image, (int(image_width/5), int(image_height/5)))\n",
    "print(image.shape)\n",
    "\n",
    "cv2.imshow(\"Image\", image)\n",
    "cv2.waitKey()\n",
    "cv2.destroyAllWindows()"
   ]
  },
  {
   "cell_type": "markdown",
   "metadata": {},
   "source": [
    "# Preprocess Data(데이터 전처리)"
   ]
  },
  {
   "cell_type": "code",
   "execution_count": 93,
   "metadata": {},
   "outputs": [],
   "source": [
    "import numpy as np"
   ]
  },
  {
   "cell_type": "code",
   "execution_count": 94,
   "metadata": {},
   "outputs": [],
   "source": [
    "def preprocess(image):\n",
    "        N, input_channels, input_height, input_width = input_layer.shape\n",
    "\n",
    "        resized_image = cv2.resize(image, (672, 384))\n",
    "        transposed_image = resized_image.transpose(2,0,1)\n",
    "        input_image = np.expand_dims(transposed_image,0)\n",
    "        \n",
    "        return input_image"
   ]
  },
  {
   "cell_type": "code",
   "execution_count": null,
   "metadata": {},
   "outputs": [],
   "source": [
    "input_image = preprocess(image)\n",
    "\n",
    "print(image.shape)\n",
    "print(input_image.shape)"
   ]
  },
  {
   "cell_type": "markdown",
   "metadata": {},
   "source": [
    "# Run Interface"
   ]
  },
  {
   "cell_type": "code",
   "execution_count": 96,
   "metadata": {},
   "outputs": [],
   "source": [
    "results = compiled_model([input_image])[output_layer]"
   ]
  },
  {
   "cell_type": "code",
   "execution_count": null,
   "metadata": {},
   "outputs": [],
   "source": [
    "print(results.shape)"
   ]
  },
  {
   "cell_type": "markdown",
   "metadata": {},
   "source": [
    "# Postprocess"
   ]
  },
  {
   "cell_type": "code",
   "execution_count": 98,
   "metadata": {},
   "outputs": [],
   "source": [
    "def find_faceboxes(image, results, confidence_threshold):\n",
    "    results = results.squeeze()\n",
    "\n",
    "    scores = results[:, 2]\n",
    "    boxes  = results[:, -4:]\n",
    "\n",
    "    face_boxes = boxes[scores >= confidence_threshold]\n",
    "    scores = scores[scores >= confidence_threshold]\n",
    "\n",
    "    image_h, image_w, image_channels = image.shape\n",
    "    face_boxes = face_boxes*np.array([image_w, image_h, image_w, image_h])\n",
    "    face_boxes = face_boxes.astype(np.int64)\n",
    "\n",
    "    return face_boxes, scores"
   ]
  },
  {
   "cell_type": "code",
   "execution_count": null,
   "metadata": {},
   "outputs": [],
   "source": [
    "confidence_threshold = .95\n",
    "face_boxes, scores = find_faceboxes(image, results, confidence_threshold)\n",
    "print(face_boxes) #AI 모델이 생각하는 얼굴 위치"
   ]
  },
  {
   "cell_type": "code",
   "execution_count": null,
   "metadata": {},
   "outputs": [],
   "source": [
    "print(scores)"
   ]
  },
  {
   "cell_type": "code",
   "execution_count": 101,
   "metadata": {},
   "outputs": [],
   "source": [
    "def draw_faceboxes(image, face_boxes, scores):\n",
    "    \n",
    "    show_image = image.copy()\n",
    "\n",
    "    for i in range(len(face_boxes)):\n",
    "        xmin, ymin, xmax, ymax = face_boxes[i]\n",
    "        cv2.rectangle(img=show_image, pt1=(xmin, ymin), pt2=(xmax, ymax), color=(0, 200, 0), thickness=2)\n",
    "\n",
    "    return show_image"
   ]
  },
  {
   "cell_type": "code",
   "execution_count": null,
   "metadata": {},
   "outputs": [],
   "source": [
    "show_image = draw_faceboxes(image, face_boxes, scores)\n",
    "\n",
    "plt.imshow(cv2.cvtColor(show_image, cv2.COLOR_BGR2RGB))"
   ]
  },
  {
   "cell_type": "code",
   "execution_count": 103,
   "metadata": {},
   "outputs": [],
   "source": [
    "cv2.imshow(\"Face  Detection\", show_image)\n",
    "cv2.waitKey()\n",
    "cv2.destroyAllWindows()"
   ]
  },
  {
   "cell_type": "code",
   "execution_count": null,
   "metadata": {},
   "outputs": [],
   "source": []
  }
 ],
 "metadata": {
  "kernelspec": {
   "display_name": "BrainAI",
   "language": "python",
   "name": "python3"
  },
  "language_info": {
   "codemirror_mode": {
    "name": "ipython",
    "version": 3
   },
   "file_extension": ".py",
   "mimetype": "text/x-python",
   "name": "python",
   "nbconvert_exporter": "python",
   "pygments_lexer": "ipython3",
   "version": "3.11.8"
  }
 },
 "nbformat": 4,
 "nbformat_minor": 4
}
